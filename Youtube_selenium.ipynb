{
 "cells": [
  {
   "cell_type": "code",
   "execution_count": 1,
   "id": "a6f7202b",
   "metadata": {},
   "outputs": [],
   "source": [
    "import selenium\n",
    "from selenium import webdriver\n",
    "from selenium.webdriver.common.by import By\n",
    "PATH = r'C:\\Users\\Yash\\python Workspace\\chromedriver.exe'"
   ]
  },
  {
   "cell_type": "code",
   "execution_count": 2,
   "id": "9709b3ac",
   "metadata": {},
   "outputs": [],
   "source": [
    "url = 'https://www.youtube.com/@PW-Foundation/videos'"
   ]
  },
  {
   "cell_type": "code",
   "execution_count": 3,
   "id": "cbbdc23b",
   "metadata": {},
   "outputs": [
    {
     "name": "stderr",
     "output_type": "stream",
     "text": [
      "C:\\Users\\Yash\\AppData\\Local\\Temp\\ipykernel_14312\\1599770709.py:1: DeprecationWarning: executable_path has been deprecated, please pass in a Service object\n",
      "  driver = webdriver.Chrome(PATH)\n"
     ]
    }
   ],
   "source": [
    "driver = webdriver.Chrome(PATH)\n",
    "driver.get(url)"
   ]
  },
  {
   "cell_type": "code",
   "execution_count": 6,
   "id": "429f8d10",
   "metadata": {
    "scrolled": true
   },
   "outputs": [],
   "source": [
    "videos = driver.find_element(By.CLASS_NAME ,'style-scope ytd-rich-grid-row')"
   ]
  },
  {
   "cell_type": "code",
   "execution_count": 21,
   "id": "eda5eb41",
   "metadata": {},
   "outputs": [
    {
     "name": "stdout",
     "output_type": "stream",
     "text": [
      "['How to score 95%+ in class 10th? Complete year Powerful Strategy!!', 'Last 4 Days Left For SST Exam || How To Manage to Score 80/80 in Boards || Class-10th', 'Benefits of Choosing Commerce After 10th | Commerce क्यों लेना चाहिए? | CBSE | ICSE | State Boards', 'Complete 𝗖𝗔𝗥𝗕𝗢𝗡 𝗔𝗡𝗗 𝗜𝗧𝗦 𝗖𝗢𝗠𝗣𝗢𝗨𝗡𝗗𝗦 in 90 Minutes | Class 10th Board Exam', 'Complete 𝗠𝗘𝗧𝗔𝗟𝗦 & 𝗡𝗢𝗡 𝗠𝗘𝗧𝗔𝗟𝗦 in 120 Minutes | Class 10th Board Exam']\n"
     ]
    }
   ],
   "source": [
    "title = videos.find_elements(By.XPATH,'//*[@id=\"video-title-link\"]')\n",
    "video_title = []\n",
    "title_5 = title[0:5]\n",
    "for i in title_5:\n",
    "    i = i.text\n",
    "    video_title.append(i)\n",
    "    \n",
    "print(video_title)"
   ]
  },
  {
   "cell_type": "code",
   "execution_count": 22,
   "id": "75a6cc4f",
   "metadata": {},
   "outputs": [
    {
     "name": "stdout",
     "output_type": "stream",
     "text": [
      "['https://www.youtube.com/watch?v=PI1obes98Zc', 'https://www.youtube.com/watch?v=16fUsD0M1-I', 'https://www.youtube.com/watch?v=S0RySN5arvk', 'https://www.youtube.com/watch?v=HzBhwxMrt8A', 'https://www.youtube.com/watch?v=60_B3haKADw']\n"
     ]
    }
   ],
   "source": [
    "video_url = videos.find_elements(By.XPATH,'//*[@id=\"video-title-link\"]')\n",
    "url_list = []\n",
    "url_5 = video_url[0:5]\n",
    "for i in url_5:\n",
    "    href_tag = i.get_attribute('href')\n",
    "    url_list.append(href_tag)\n",
    "    \n",
    "print(url_list)"
   ]
  },
  {
   "cell_type": "code",
   "execution_count": 23,
   "id": "de9ac21b",
   "metadata": {},
   "outputs": [
    {
     "name": "stdout",
     "output_type": "stream",
     "text": [
      "['https://i.ytimg.com/vi/PI1obes98Zc/hqdefault.jpg?sqp=-oaymwEcCNACELwBSFXyq4qpAw4IARUAAIhCGAFwAcABBg==&rs=AOn4CLDyWGBtPVQCXcUM1DiCpOeszoKAsQ', 'https://i.ytimg.com/vi/16fUsD0M1-I/hqdefault.jpg?sqp=-oaymwEcCNACELwBSFXyq4qpAw4IARUAAIhCGAFwAcABBg==&rs=AOn4CLByRUwFQYHPXlsq0XinNUla0MZtNw', 'https://i.ytimg.com/vi/S0RySN5arvk/hqdefault.jpg?sqp=-oaymwEcCNACELwBSFXyq4qpAw4IARUAAIhCGAFwAcABBg==&rs=AOn4CLBOhnoOmjXFZyCKcKSm5Q-ZERlrZQ', 'https://i.ytimg.com/vi/HzBhwxMrt8A/hqdefault.jpg?sqp=-oaymwEcCNACELwBSFXyq4qpAw4IARUAAIhCGAFwAcABBg==&rs=AOn4CLDxv8xtxXYKf6Zn58zMFt2mqVTTZw', 'https://i.ytimg.com/vi/60_B3haKADw/hqdefault.jpg?sqp=-oaymwEcCNACELwBSFXyq4qpAw4IARUAAIhCGAFwAcABBg==&rs=AOn4CLA9baY1YtDSZafi5-Ej4K4ehDrL_A']\n"
     ]
    }
   ],
   "source": [
    "video_thumbnail = videos.find_elements(By.XPATH,'//*[@id=\"thumbnail\"]/yt-image/img')\n",
    "thumbnail_list = []\n",
    "thumbnail_5 = video_thumbnail[0:5]\n",
    "for i in thumbnail_5:\n",
    "    img_tag = i.get_attribute('src')\n",
    "    thumbnail_list.append(img_tag)\n",
    "    \n",
    "print(thumbnail_list)"
   ]
  },
  {
   "cell_type": "code",
   "execution_count": 24,
   "id": "d20ce692",
   "metadata": {},
   "outputs": [
    {
     "name": "stdout",
     "output_type": "stream",
     "text": [
      "['133K views', '67K views', '26K views', '41K views', '22K views']\n"
     ]
    }
   ],
   "source": [
    "video_views = videos.find_elements(By.XPATH,'//*[@id=\"metadata-line\"]/span[1]')\n",
    "views_list= []\n",
    "views_5 = video_views[0:5]\n",
    "for i in views_5:\n",
    "    i = i.text\n",
    "    views_list.append(i)\n",
    "print(views_list)"
   ]
  },
  {
   "cell_type": "code",
   "execution_count": 25,
   "id": "7c3a0aa3",
   "metadata": {},
   "outputs": [
    {
     "name": "stdout",
     "output_type": "stream",
     "text": [
      "['6 days ago', '6 days ago', '10 days ago', '13 days ago', '13 days ago']\n"
     ]
    }
   ],
   "source": [
    "video_posted = videos.find_elements(By.XPATH,'//*[@id=\"metadata-line\"]/span[2]')\n",
    "posted_list = []\n",
    "posted_5 = video_posted[0:5]\n",
    "for i in posted_5:\n",
    "    i = i.text\n",
    "    posted_list.append(i)\n",
    "print(posted_list)"
   ]
  },
  {
   "cell_type": "code",
   "execution_count": 30,
   "id": "99de6742",
   "metadata": {},
   "outputs": [
    {
     "data": {
      "text/html": [
       "<div>\n",
       "<style scoped>\n",
       "    .dataframe tbody tr th:only-of-type {\n",
       "        vertical-align: middle;\n",
       "    }\n",
       "\n",
       "    .dataframe tbody tr th {\n",
       "        vertical-align: top;\n",
       "    }\n",
       "\n",
       "    .dataframe thead th {\n",
       "        text-align: right;\n",
       "    }\n",
       "</style>\n",
       "<table border=\"1\" class=\"dataframe\">\n",
       "  <thead>\n",
       "    <tr style=\"text-align: right;\">\n",
       "      <th></th>\n",
       "      <th>Title</th>\n",
       "      <th>Uploaded</th>\n",
       "      <th>Views</th>\n",
       "      <th>Video_URL</th>\n",
       "      <th>Thumbnail_URL</th>\n",
       "    </tr>\n",
       "  </thead>\n",
       "  <tbody>\n",
       "    <tr>\n",
       "      <th>0</th>\n",
       "      <td>How to score 95%+ in class 10th? Complete year...</td>\n",
       "      <td>6 days ago</td>\n",
       "      <td>133K views</td>\n",
       "      <td>https://www.youtube.com/watch?v=PI1obes98Zc</td>\n",
       "      <td>https://i.ytimg.com/vi/PI1obes98Zc/hqdefault.j...</td>\n",
       "    </tr>\n",
       "    <tr>\n",
       "      <th>1</th>\n",
       "      <td>Last 4 Days Left For SST Exam || How To Manage...</td>\n",
       "      <td>6 days ago</td>\n",
       "      <td>67K views</td>\n",
       "      <td>https://www.youtube.com/watch?v=16fUsD0M1-I</td>\n",
       "      <td>https://i.ytimg.com/vi/16fUsD0M1-I/hqdefault.j...</td>\n",
       "    </tr>\n",
       "    <tr>\n",
       "      <th>2</th>\n",
       "      <td>Benefits of Choosing Commerce After 10th | Com...</td>\n",
       "      <td>10 days ago</td>\n",
       "      <td>26K views</td>\n",
       "      <td>https://www.youtube.com/watch?v=S0RySN5arvk</td>\n",
       "      <td>https://i.ytimg.com/vi/S0RySN5arvk/hqdefault.j...</td>\n",
       "    </tr>\n",
       "    <tr>\n",
       "      <th>3</th>\n",
       "      <td>Complete 𝗖𝗔𝗥𝗕𝗢𝗡 𝗔𝗡𝗗 𝗜𝗧𝗦 𝗖𝗢𝗠𝗣𝗢𝗨𝗡𝗗𝗦 in 90 Minute...</td>\n",
       "      <td>13 days ago</td>\n",
       "      <td>41K views</td>\n",
       "      <td>https://www.youtube.com/watch?v=HzBhwxMrt8A</td>\n",
       "      <td>https://i.ytimg.com/vi/HzBhwxMrt8A/hqdefault.j...</td>\n",
       "    </tr>\n",
       "    <tr>\n",
       "      <th>4</th>\n",
       "      <td>Complete 𝗠𝗘𝗧𝗔𝗟𝗦 &amp; 𝗡𝗢𝗡 𝗠𝗘𝗧𝗔𝗟𝗦 in 120 Minutes | ...</td>\n",
       "      <td>13 days ago</td>\n",
       "      <td>22K views</td>\n",
       "      <td>https://www.youtube.com/watch?v=60_B3haKADw</td>\n",
       "      <td>https://i.ytimg.com/vi/60_B3haKADw/hqdefault.j...</td>\n",
       "    </tr>\n",
       "  </tbody>\n",
       "</table>\n",
       "</div>"
      ],
      "text/plain": [
       "                                               Title     Uploaded       Views  \\\n",
       "0  How to score 95%+ in class 10th? Complete year...   6 days ago  133K views   \n",
       "1  Last 4 Days Left For SST Exam || How To Manage...   6 days ago   67K views   \n",
       "2  Benefits of Choosing Commerce After 10th | Com...  10 days ago   26K views   \n",
       "3  Complete 𝗖𝗔𝗥𝗕𝗢𝗡 𝗔𝗡𝗗 𝗜𝗧𝗦 𝗖𝗢𝗠𝗣𝗢𝗨𝗡𝗗𝗦 in 90 Minute...  13 days ago   41K views   \n",
       "4  Complete 𝗠𝗘𝗧𝗔𝗟𝗦 & 𝗡𝗢𝗡 𝗠𝗘𝗧𝗔𝗟𝗦 in 120 Minutes | ...  13 days ago   22K views   \n",
       "\n",
       "                                     Video_URL  \\\n",
       "0  https://www.youtube.com/watch?v=PI1obes98Zc   \n",
       "1  https://www.youtube.com/watch?v=16fUsD0M1-I   \n",
       "2  https://www.youtube.com/watch?v=S0RySN5arvk   \n",
       "3  https://www.youtube.com/watch?v=HzBhwxMrt8A   \n",
       "4  https://www.youtube.com/watch?v=60_B3haKADw   \n",
       "\n",
       "                                       Thumbnail_URL  \n",
       "0  https://i.ytimg.com/vi/PI1obes98Zc/hqdefault.j...  \n",
       "1  https://i.ytimg.com/vi/16fUsD0M1-I/hqdefault.j...  \n",
       "2  https://i.ytimg.com/vi/S0RySN5arvk/hqdefault.j...  \n",
       "3  https://i.ytimg.com/vi/HzBhwxMrt8A/hqdefault.j...  \n",
       "4  https://i.ytimg.com/vi/60_B3haKADw/hqdefault.j...  "
      ]
     },
     "execution_count": 30,
     "metadata": {},
     "output_type": "execute_result"
    }
   ],
   "source": [
    "import csv\n",
    "import pandas as pd\n",
    "df = pd.DataFrame({'Title':video_title,'Uploaded':posted_list,'Views':views_list,'Video_URL':url_list,'Thumbnail_URL':thumbnail_list})\n",
    "df"
   ]
  },
  {
   "cell_type": "code",
   "execution_count": null,
   "id": "054871fc",
   "metadata": {},
   "outputs": [],
   "source": []
  }
 ],
 "metadata": {
  "kernelspec": {
   "display_name": "Python 3 (ipykernel)",
   "language": "python",
   "name": "python3"
  },
  "language_info": {
   "codemirror_mode": {
    "name": "ipython",
    "version": 3
   },
   "file_extension": ".py",
   "mimetype": "text/x-python",
   "name": "python",
   "nbconvert_exporter": "python",
   "pygments_lexer": "ipython3",
   "version": "3.9.13"
  }
 },
 "nbformat": 4,
 "nbformat_minor": 5
}
