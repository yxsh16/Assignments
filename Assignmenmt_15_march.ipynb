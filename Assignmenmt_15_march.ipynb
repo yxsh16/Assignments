{
 "cells": [
  {
   "cell_type": "markdown",
   "id": "ecf21017-9863-4fc4-9e7f-422ae857c013",
   "metadata": {},
   "source": [
    "## Ans1"
   ]
  },
  {
   "cell_type": "markdown",
   "id": "a2e6aaa6-606f-4fa5-80f2-44724d0641c6",
   "metadata": {},
   "source": [
    "Artificial Intelligence:<br>\n",
    "Artificial Intelligence (AI) is the field of computer science that focuses on creating machines or software programs that can perform tasks that typically require human intelligence, such as recognizing speech, making decisions, and solving problems<br>\n",
    "Example of AI is self-driving cars, which use sensors, cameras, and AI algorithms to navigate roads and make driving decisions. AI is also used in healthcare, finance, and many other industries to improve efficiency and accuracy\n",
    "\n",
    "\n",
    "Machine Learning:<br>\n",
    "Machine learning (ML) is a subfield of AI that involves training machines or software programs to improve their performance on a particular task by using data and statistical algorithms. ML algorithms can be supervised, unsupervised, or semi-supervised.<br>\n",
    "For example an algorithm can be trained to classify images of cats and dogs. The dataset would include labeled images of cats and dogs, and the algorithm would learn to recognize the features that distinguish them. Once the algorithm is trained, it can classify new images as either cats or dogs.<br>\n",
    "Machine learning has many applications, including image recognition, natural language processing, fraud detection, and recommendation systems.\n",
    "\n",
    "\n",
    "\n",
    "Deep Learning<br>\n",
    "Deep learning is a subfield of machine learning that involves training neural networks with multiple layers to improve their performance on complex tasks. Deep learning algorithms can be used for image and speech recognition, natural language processing, and many other applications.<br>\n",
    "An example of deep learning in action is image classification. A deep learning algorithm can be trained to recognize objects in images, such as cars, buildings, or animals."
   ]
  },
  {
   "cell_type": "markdown",
   "id": "d26a973d-a969-453f-91e7-20a9154ecc15",
   "metadata": {},
   "source": [
    "## Ans2"
   ]
  },
  {
   "cell_type": "markdown",
   "id": "c7d307d4-2863-4b3f-8591-e3d46d7560a1",
   "metadata": {},
   "source": [
    "Supervised learning is a type of machine learning where an algorithm is trained on a labeled dataset. In supervised learning, the inputs and outputs of the algorithm are known in advance, and the goal is to learn a mapping function that can predict the output for new inputs.It can be used for both regression and classification tasks.<br>\n",
    "Supervised learning is widely used in many fields, including computer vision, natural language processing, speech recognition, and recommendation systems."
   ]
  },
  {
   "cell_type": "markdown",
   "id": "36d7db23-c1a3-4703-87ed-5d4f4fc2b97e",
   "metadata": {},
   "source": [
    "## Ans3"
   ]
  },
  {
   "cell_type": "markdown",
   "id": "50f20d1e-2a4e-453c-bb01-1de383ccfc0b",
   "metadata": {},
   "source": [
    "Unsupervised learning is a type of machine learning that involves training algorithms on unlabeled data, with the goal of finding patterns or relationships in the data without the use of predefined categories or labels.<br>\n",
    "Unsupervised leaning is used in:<br>\n",
    "Clustering: Clustering algorithms group similar data points together based on their features, without any predefined labels or categories. <br>\n",
    "Dimensionality reduction: Dimensionality reduction algorithms reduce the number of features in the data while preserving as much information as possible.<br>\n"
   ]
  },
  {
   "cell_type": "markdown",
   "id": "96f4ed2c-8f56-44cd-a647-268bf52d9d28",
   "metadata": {},
   "source": [
    "## Ans4"
   ]
  },
  {
   "cell_type": "markdown",
   "id": "d697eb47-a335-434b-a1b0-a6c3c36639b6",
   "metadata": {},
   "source": [
    "AI refers to the development of machines or software that can perform tasks that typically require human intelligence, such as recognizing speech, making decisions, and understanding natural language.\n",
    "\n",
    "ML is a subfield of AI that involves the development of algorithms that enable machines to learn from data and improve their performance on a task without being explicitly programmed.\n",
    "\n",
    "DL is a subfield of ML that involves the use of neural networks with multiple layers to learn complex features from the input data.\n",
    "\n",
    "DS is an interdisciplinary field that involves the use of statistical and computational methods to extract insights from data. It includes data collection, cleaning, analysis, visualization, and interpretation."
   ]
  },
  {
   "cell_type": "markdown",
   "id": "0d1341bc-c5b3-4301-a106-78eacfed52ff",
   "metadata": {},
   "source": [
    "## Ans5"
   ]
  },
  {
   "cell_type": "markdown",
   "id": "75182b4d-7b0b-47e7-b8cc-b1f1a60509d4",
   "metadata": {},
   "source": [
    "Supervised learning involves training a machine learning algorithm on labeled data, where the desired output or target variable is known for each input. The algorithm learns to make predictions by mapping inputs to outputs based on the labeled examples. Examples of supervised learning include image classification, sentiment analysis, and predicting stock prices.<br>\n",
    "\n",
    "Unsupervised learning involves training a machine learning algorithm on unlabeled data, where the desired output or target variable is not known. The algorithm learns to find patterns and relationships in the data without any prior knowledge of what to look for. Examples of unsupervised learning include clustering, dimensionality reduction, and association rule learning.<br>\n",
    "\n",
    "Semi-supervised learning is a combination of supervised and unsupervised learning, where the algorithm is trained on a mix of labeled and unlabeled data. The goal is to use the labeled data to guide the learning process and improve the accuracy of the model, while leveraging the large amounts of unlabeled data to learn more about the underlying structure of the data. Examples of semi-supervised learning include text classification, object recognition, and speech recognition."
   ]
  },
  {
   "cell_type": "markdown",
   "id": "b4465b37-9f23-43bd-9c9d-75d45ea9a32f",
   "metadata": {},
   "source": [
    "## Ans6"
   ]
  },
  {
   "cell_type": "markdown",
   "id": "c7e9ed38-5b49-4f8b-bd4c-73599e260363",
   "metadata": {},
   "source": [
    "Training set: This subset of the data is used to train the machine learning model. The model learns to make predictions based on the input data and the corresponding output labels or targets. The training set is usually the largest subset of the data, typically around 70-80% of the dataset.<br>\n",
    "Validation set: This subset of the data is used to tune the hyperparameters of the model and to prevent overfitting. The hyperparameters are settings that control the behavior of the algorithm, such as the learning rate or the number of hidden layers in a neural network. The validation set is used to evaluate the performance of the model on new, unseen data, and to make adjustments to the model based on the performance. The validation set is typically around 10-15% of the dataset.<br>\n",
    "Test set: This subset of the data is used to evaluate the final performance of the trained model. The test set is a completely independent dataset that was not used during the training or validation process. It is used to measure how well the model can generalize to new, unseen data. The test set is typically around 10-15% of the dataset."
   ]
  },
  {
   "cell_type": "markdown",
   "id": "40f0df79-54ca-4e4a-9170-9d94b66952b3",
   "metadata": {},
   "source": [
    "## Ans7"
   ]
  },
  {
   "cell_type": "markdown",
   "id": "1a3644d4-acce-4e2a-a607-ffe5bbf55f42",
   "metadata": {},
   "source": [
    "Unsupervised learning is used to anomaly detection because it does not require labeled data, which can be difficult or expensive to obtain in many cases. Anomaly detection refers to the identification of data points that deviate from the norm or are unusual compared to the rest of the data.<br>\n",
    "One common approach to anomaly detection using unsupervised learning is clustering. Clustering algorithms can group similar data points together based on their similarity, and data points that are significantly different from the other points in a cluster can be identified as anomalies. For example, if most data points in a cluster have similar values for certain features, a data point with a value that deviates significantly from the mean or median of the feature can be flagged as an anomaly.<br>\n",
    "Using unsupervised learning for dimensionality reduction. Dimensionality reduction techniques such as Principal Component Analysis (PCA) or t-SNE can be used to identify patterns in high-dimensional data by reducing the number of features or variables. Anomalies can then be identified by looking for data points that do not fit into the reduced pattern.\n"
   ]
  },
  {
   "cell_type": "markdown",
   "id": "c31fd1b6-3198-40ec-adeb-622c38de86f5",
   "metadata": {},
   "source": [
    "## Ans8"
   ]
  },
  {
   "cell_type": "markdown",
   "id": "ad9f657f-d09a-4b66-8596-ceff0e4a1a9d",
   "metadata": {},
   "source": [
    "Supervised Learning Algorithms:<br>\n",
    "Linear regression<br>\n",
    "Logistic regression<br>\n",
    "Decision tree<br>\n",
    "Random forest<br>\n",
    "K-Nearest Neighbors <br>\n",
    "Support Vector Machine <br>\n",
    "Artificial Neural Networks<br><br>\n",
    "Unsupervised Learning Algorithms:<br>\n",
    "K-Means Clustering<br>\n",
    "Hierarchical Clustering<br>\n",
    "Principal Component Analysis<br>\n",
    "Apriori algorithm"
   ]
  },
  {
   "cell_type": "code",
   "execution_count": null,
   "id": "5dd38fc0-2ade-4815-8fbb-7bf016de6f9b",
   "metadata": {},
   "outputs": [],
   "source": []
  }
 ],
 "metadata": {
  "kernelspec": {
   "display_name": "Python 3 (ipykernel)",
   "language": "python",
   "name": "python3"
  },
  "language_info": {
   "codemirror_mode": {
    "name": "ipython",
    "version": 3
   },
   "file_extension": ".py",
   "mimetype": "text/x-python",
   "name": "python",
   "nbconvert_exporter": "python",
   "pygments_lexer": "ipython3",
   "version": "3.10.8"
  }
 },
 "nbformat": 4,
 "nbformat_minor": 5
}
