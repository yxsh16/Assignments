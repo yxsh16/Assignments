{
 "cells": [
  {
   "cell_type": "markdown",
   "id": "09b7bfbe-1010-4ea1-870a-25a0219a8af4",
   "metadata": {},
   "source": [
    "## Ans1"
   ]
  },
  {
   "cell_type": "markdown",
   "id": "e830947d-5743-4cfd-9d04-ed2215eee95c",
   "metadata": {},
   "source": [
    "Missing values in a dataset refer to the absence of data in one or more fields of a record. Missing values can occur due to various reasons such as data entry errors, data corruption, or data not being collected for some samples.Handling missing values is essential because they can have a significant impact on the accuracy and reliability of any data analysis or modeling that is performed using the dataset. If missing values are not dealt with properly, it can lead to biased results, reduced statistical power, and incorrect conclusions.<br>\n",
    "Some algorithms that are not affected by missing values are:<br>\n",
    "Decision Trees: Decision Trees are robust to missing values as they can handle them by assigning a split based on the available data.<br>\n",
    "Random Forests: Random Forests are also robust to missing values because they use multiple decision trees to make a prediction, and each decision tree can handle missing values independently<br>\n",
    "Gaussian Mixture Models: Gaussian Mixture Models can handle missing values by estimating the missing data based on the available data and the model parameters.<br>\n",
    "K-Nearest Neighbors: K-Nearest Neighbors can handle missing values by simply ignoring the missing values and using only the available features to calculate distances between samples."
   ]
  },
  {
   "cell_type": "markdown",
   "id": "76edc7a6-64e8-4345-8061-a343ac7fdd86",
   "metadata": {},
   "source": [
    "## Ans2"
   ]
  },
  {
   "cell_type": "markdown",
   "id": "1c724f89-c74b-4725-abaf-39adde1df86f",
   "metadata": {},
   "source": [
    "Techniques to handle missing data are:<br>\n",
    "1 Replacing with mean<br>\n",
    "2 Replacing with median<br>\n",
    "3 Replacing with mode<br>\n",
    "4 Deletion of missing values<br>\n",
    "5 Interpolation of data"
   ]
  },
  {
   "cell_type": "code",
   "execution_count": null,
   "id": "03182c60-d350-4408-9451-6d30ba5f26d8",
   "metadata": {},
   "outputs": [],
   "source": [
    "# Example:   \n",
    "# Mean Median Mode Imputation\n",
    "import pandas as pd\n",
    "\n",
    "# Load the dataset\n",
    "df = pd.read_csv(\"data.csv\")\n",
    "\n",
    "# Replace missing values with the mean\n",
    "df.fillna(df.mean(), inplace=True)\n",
    "\n",
    "# Check the number of missing values\n",
    "print(df.isnull().sum())\n",
    "\n",
    "\n",
    "\n",
    "\n",
    "#Deleting the missing values\n",
    "import pandas as pd\n",
    "\n",
    "# Load the dataset\n",
    "df = pd.read_csv(\"data.csv\")\n",
    "\n",
    "# Replace missing values with the mean\n",
    "df.fillna(df.mean(), inplace=True)\n",
    "\n",
    "# Check the number of missing values\n",
    "print(df.isnull().sum())\n",
    "\n",
    "\n",
    "\n",
    "# Interpolation of values\n",
    "\n",
    "import pandas as pd\n",
    "\n",
    "# Load the dataset\n",
    "df = pd.read_csv(\"data.csv\")\n",
    "\n",
    "# Interpolate missing values using linear method\n",
    "df.interpolate(method='linear', inplace=True)\n",
    "\n",
    "# Check the number of missing values\n",
    "print(df.isnull().sum())\n"
   ]
  },
  {
   "cell_type": "markdown",
   "id": "f573f7fc-4562-4db1-90ae-d87e7f617b93",
   "metadata": {},
   "source": [
    "## Ans3"
   ]
  },
  {
   "cell_type": "markdown",
   "id": "3170e089-31ff-4d88-bd98-febd93807590",
   "metadata": {},
   "source": [
    "Imbalanced Imbalanced data refers to a dataset where the number of instances in each class is not equal , One class has significantly more or fewer samples than the others. For example, a binary classification problem with 95% of the samples belonging to class A and only 5% to class B is an imbalanced dataset.\n",
    "\n",
    "If imbalanced data is not handled, it can lead to several issues in machine learning models. One of the main problems is that the model may become biased towards the majority class, which may lead to poor performance on the minority class. In other words, the model may predict the majority class for most of the instances, resulting in high accuracy for the majority class but low accuracy for the minority class.\n",
    "\n",
    "Another issue is that the evaluation metrics may be misleading. For example, if the model predicts the majority class for all instances, it will have an accuracy of 95%, which may seem good at first. However, this model is not useful for the minority class, which is the one we may be interested in."
   ]
  },
  {
   "cell_type": "markdown",
   "id": "4536239e-637a-4212-b38d-e69d85071e61",
   "metadata": {},
   "source": [
    "## Ans4"
   ]
  },
  {
   "cell_type": "markdown",
   "id": "294e9e2b-6201-4a03-bf55-e5992cbe0ec7",
   "metadata": {},
   "source": [
    "Up-sampling and down-sampling are two common techniques used to address imbalanced data in machine learning.\n",
    "\n",
    "Up-sampling involves increasing the number of instances in the minority class to balance the class distribution. This can be done by randomly duplicating instances from the minority class or by generating synthetic samples using techniques such as SMOTE.\n",
    "\n",
    "Down-sampling involves reducing the number of instances in the majority class to balance the class distribution. This can be done by randomly removing instances from the majority class.\n",
    "\n",
    "Example:\n",
    "\n",
    "Suppose you are working on a binary classification problem to predict whether a customer will churn or not. You have a dataset with 10,000 samples, out of which only 10% belong to the positive class (churned customers). This is an imbalanced dataset, as the majority class (non-churned customers) accounts for 90% of the samples.\n",
    "\n",
    "In this case, up-sampling can be used to increase the number of samples in the positive class, which can improve the model's ability to detect the minority class. This can be done by randomly duplicating instances from the positive class or by using synthetic data generation techniques.\n",
    "\n",
    "On the other hand, down-sampling may be used when the majority class has a significantly larger number of samples than the minority class, and the goal is to reduce the number of samples to balance the dataset. For example, if the majority class has 95% of the samples, and the minority class has only 5%, down-sampling can be used to reduce the number of samples in the majority class to balance the class distribution. However, as mentioned earlier, down-sampling may discard some information, which can affect the model's performance."
   ]
  },
  {
   "cell_type": "markdown",
   "id": "4c1b6a59-2d0c-4c59-acf0-a4e8fa990d38",
   "metadata": {},
   "source": [
    "## Ans5"
   ]
  },
  {
   "cell_type": "markdown",
   "id": "e376477d-d620-4445-b995-711f0b8b2600",
   "metadata": {},
   "source": [
    "Data augmentation is a technique used in machine learning to increase the size and diversity of a dataset by generating new examples from the existing ones. This can help to improve the performance of machine learning models by reducing overfitting and improving generalization.\n",
    "\n",
    "One popular data augmentation technique is SMOTE. SMOTE is used to address the problem of imbalanced data by generating synthetic examples of the minority class.\n",
    "\n",
    "SMOTE works by creating synthetic examples by interpolating between existing minority class examples. For each example in the minority class, SMOTE selects k nearest neighbors from the minority class and creates a new example by randomly selecting a point between the original example and one of its k nearest neighbors. The number of synthetic examples generated can be controlled by adjusting the sampling strategy and the k value.\n",
    "\n",
    "For example, suppose you have a dataset with two classes, one of which has significantly fewer samples than the other. You can use SMOTE to generate synthetic examples of the minority class to balance the dataset. By applying SMOTE to the minority class, you can create new examples that are similar to the existing ones but with small variations. \n",
    "\n"
   ]
  },
  {
   "cell_type": "markdown",
   "id": "4b378bb0-5b9c-41f1-a011-291d024c5620",
   "metadata": {},
   "source": [
    "## Ans6"
   ]
  },
  {
   "cell_type": "markdown",
   "id": "f9c1a71f-b2df-43bb-ad02-9941702494dd",
   "metadata": {},
   "source": [
    "Outliers in a dataset refer to observations that are significantly different from other observations in the dataset. These observations may be unusually high or low in value or may have extreme values compared to the rest of the data. Outliers can occur due to errors in data collection or entry, measurement error, or natural variation in the data.\n",
    "\n",
    "Handling outliers is essential for several reasons. First, outliers can skew statististical analyses, leading to incorrect conclusions about the data. For example, if outliers are not handled, they may significantly impact the mean and standard deviation, which are commonly used in statistical analyses. This can lead to incorrect interpretations of the data, and the resulting models may not be representative of the underlying distribution.\n",
    "\n",
    "Second, outliers can also have a significant impact on machine learning algorithms. Many machine learning algorithms are sensitive to outliers, and models trained on datasets with outliers may have poor predictive performance. For example, in regression analysis, outliers can significantly impact the coefficients of the model, leading to incorrect predictions.\n",
    "\n",
    "Third, outliers can also impact data visualization, making it difficult to understand the underlying distribution. Outliers can cause the scale of the data to be distorted, leading to a misleading visualization of the data."
   ]
  },
  {
   "cell_type": "markdown",
   "id": "8f893850-dc23-42a7-9455-ed264e3ca4c3",
   "metadata": {},
   "source": [
    "## Ans7"
   ]
  },
  {
   "cell_type": "markdown",
   "id": "32e6bd9e-d961-47d5-bce7-c1007d2e44fd",
   "metadata": {},
   "source": [
    "Deletion: This technique involves removing observations or variables that contain missing values.This can lead to loss of data.\n",
    "\n",
    "Imputation: This technique involves filling in the missing values with anestimate based on the available data. There are several imputation techniques, such as mean imputation , median imputation, regression imputation, and k-nearest neighbor imputation.\n",
    "\n",
    "Hot Deck imputation: This technique involves filling in missing values by randomly selecting a value from a similar observation in the dataset. Hot deck imputation maintains the statistical properties of the original dataset and is considered better than other imputation techniques when the amount of missing data is relatively low.\n",
    "\n",
    "Multiple imputation: This technique involves creating several imputed datasets and analyzing each of them separately to obtain a final estimate. Multiple imputation is preferred when the amount of missing data is high, and imputing values by only one technique may introduce a lot of bias in the final results."
   ]
  },
  {
   "cell_type": "markdown",
   "id": "9a9f411a-cf93-4e90-a844-109213fb4f54",
   "metadata": {},
   "source": [
    "## Ans8"
   ]
  },
  {
   "cell_type": "markdown",
   "id": "74f16175-a3d6-4fb7-a867-90001b401953",
   "metadata": {},
   "source": [
    "Visual analysis: A simple technique to identify the pattern of missing data is to use visual analysis. For example, you can create a histogram or a bar chart of the data, with missing values plotted separately. This can help identify if there is any systematic pattern to the missing data.\n",
    "\n",
    "Correlation analysis: Correlation analysis can help identify the relationship between the missing data and other variables in the dataset. If there is a systematic relationship between the missing data and other variables, it can be an indication that the missing data is not missing at random.\n",
    "\n",
    "Missing data tests: There are several statistical tests available that can be used to determine if the missing data is missing at random or not. For example, the Little's MCAR test can be used to test if the missing data is missing completely at random (MCAR). The Missing at Random (MAR) and Missing Not at Random (MNAR) tests can be used to determine if there is any systematic pattern to the missing data.\n",
    "\n",
    "Imputation techniques: Imputation techniques can also be used to determine if the missing data is missing at random or not. For example, if the imputed values are similar to the observed values, it can be an indication that the missing data is missing at random. On the other hand, if the imputed values are different from the observed values, it can be an indication that the missing data is not missing at random."
   ]
  },
  {
   "cell_type": "markdown",
   "id": "5878436a-ecca-468b-bd61-166fd1a79cc8",
   "metadata": {},
   "source": [
    "## Ans9"
   ]
  },
  {
   "cell_type": "markdown",
   "id": "d2525a9a-926f-4a16-a294-b861ae86d261",
   "metadata": {},
   "source": [
    "Use appropriate evaluation metrics: Using appropriate evaluation metrics is crucial when dealing with imbalanced datasets. Metrics such as accuracy can be misleading as they can give high scores even when the model is not performing well on the minority class. Instead, metrics such as precision, recall, F1-score, and AUC-ROC can provide a better understanding of how well the model is performing on the minority class.\n",
    "\n",
    "Resampling techniques: Resampling techniques such as oversampling and undersampling can be used to balance the dataset. Oversampling involves creating synthetic examples for the minority class, while undersampling involves removing examples from the majority class. However, it is essential to be cautious when using these techniques as they can introduce bias and overfitting.\n",
    "\n",
    "Class weight balancing: Most machine learning algorithms allow for adjusting the class weights to balance the dataset. This technique can help the model to focus more on the minority class, giving more importance to its performance.\n",
    "\n",
    "Ensemble techniques: Ensemble techniques such as bagging, boosting, and stacking can help to improve the model's performance on the minority class. By combining several models, these techniques can help to reduce bias and improve generalization."
   ]
  },
  {
   "cell_type": "markdown",
   "id": "dd1218c2-f9df-4377-b2c1-16c55bd2d712",
   "metadata": {},
   "source": [
    "## Ans10"
   ]
  },
  {
   "cell_type": "markdown",
   "id": "a275e720-3f71-41b4-89a2-2feebf7d79d3",
   "metadata": {},
   "source": [
    "Random Under-Sampling: Randomly removing instances from the majority class can balance the dataset. However, this method can lead to information loss and reduce the representativeness of the majority class.\n",
    "\n",
    "Cluster Centroids: The Cluster Centroids method selects a subset of centroids from the majority class that represent the majority class without including all the majority class instances.\n",
    "\n",
    "Tomek Links: The Tomek Links method identifies the instances in the majority class that are closest to the minority class and removes them. This method helps to improve the decision boundary between the classes.\n",
    "\n",
    "Edited Nearest Neighbors: The Edited Nearest Neighbors method removes the majority class instances that are misclassified by the k-nearest neighbors algorithm. This method can help to remove noisy instances from the majority class."
   ]
  },
  {
   "cell_type": "markdown",
   "id": "eb63042a-ed1c-41a0-bc67-8a84a0ff6a7f",
   "metadata": {},
   "source": [
    "## Ans11"
   ]
  },
  {
   "cell_type": "markdown",
   "id": "0e5999ad-bdb2-43ed-aa45-fadee3e19163",
   "metadata": {},
   "source": [
    "Random Over-Sampling: Randomly replicating instances from the minority class can balance the dataset. However, this method can lead to overfitting, as the same instances are used in both the training and testing sets.\n",
    "\n",
    "SMOTE: Synthetic Minority Over-Sampling Technique (SMOTE) creates synthetic examples for the minority class based on the existing instances by creating new synthetic examples along the line segments joining the minority class instances. This method helps to create a more diverse and balanced dataset.\n",
    "\n",
    "ADASYN: The Adaptive Synthetic Sampling (ADASYN) method is similar to SMOTE, but it creates more synthetic examples for the minority class based on the difficulty of the classification problem.\n",
    "\n",
    "Synthetic Sampling using GANs: Synthetic Sampling using Generative Adversarial Networks (GANs) can be used to generate synthetic examples for the minority class that are more realistic and diverse. This method has shown promising results in creating more realistic synthetic examples."
   ]
  },
  {
   "cell_type": "code",
   "execution_count": null,
   "id": "44734012-7db7-4a51-8601-e3081eae9fd1",
   "metadata": {},
   "outputs": [],
   "source": []
  },
  {
   "cell_type": "code",
   "execution_count": null,
   "id": "7ea065c6-a920-485a-893f-6bf4a1d58aeb",
   "metadata": {},
   "outputs": [],
   "source": []
  }
 ],
 "metadata": {
  "kernelspec": {
   "display_name": "Python 3 (ipykernel)",
   "language": "python",
   "name": "python3"
  },
  "language_info": {
   "codemirror_mode": {
    "name": "ipython",
    "version": 3
   },
   "file_extension": ".py",
   "mimetype": "text/x-python",
   "name": "python",
   "nbconvert_exporter": "python",
   "pygments_lexer": "ipython3",
   "version": "3.10.8"
  }
 },
 "nbformat": 4,
 "nbformat_minor": 5
}
